{
 "cells": [
  {
   "cell_type": "markdown",
   "source": [
    "# 前置部分"
   ],
   "metadata": {
    "collapsed": false
   },
   "id": "40be5902bf9d1d3c"
  },
  {
   "cell_type": "markdown",
   "source": [
    "导库、定义变量"
   ],
   "metadata": {
    "collapsed": false
   },
   "id": "3e52ad850c3edc34"
  },
  {
   "cell_type": "code",
   "execution_count": 49,
   "outputs": [],
   "source": [
    "import pandas as pd\n",
    "# pip install pandas openpyxl\n",
    "\n",
    "pd.set_option('display.max_columns', None)\n",
    "\n",
    "# 折算关系\n",
    "subjects_discount = {\n",
    "    '语文': 1, '数学': 1, '英语': 1, '体育': 1,\n",
    "    '物理': 0.6, '化学': 0.6,\n",
    "    '政治': 0.5, '历史': 0.5,\n",
    "    '生物': 0.3, '地理': 0.3\n",
    "}\n",
    "subjects = list(subjects_discount.keys())\n",
    "\n",
    "# 各科满分 (及格是满分的*0.6)\n",
    "subjects_full = {\n",
    "    '语文': 150, '数学': 150, '英语': 150, '体育': 70,\n",
    "    '物理': 100, '化学': 100,\n",
    "    '政治': 100, '历史': 100,\n",
    "    '生物': 100, '地理': 100\n",
    "}\n"
   ],
   "metadata": {
    "collapsed": false,
    "ExecuteTime": {
     "end_time": "2024-05-08T12:52:12.927080100Z",
     "start_time": "2024-05-08T12:52:12.847480700Z"
    }
   },
   "id": "b9a86cdc408b0225"
  },
  {
   "cell_type": "markdown",
   "source": [
    "查看数据集"
   ],
   "metadata": {
    "collapsed": false
   },
   "id": "718c171437fb222"
  },
  {
   "cell_type": "code",
   "execution_count": 50,
   "outputs": [],
   "source": [
    "df_info = pd.read_csv(\"./data/test_ksxx.csv\")\n",
    "df_score = pd.read_csv(\"./data/test_kscj.csv\")\n",
    "# print(\"df_info:\\n\", df_info)\n",
    "# print(\"df_score:\\n\", df_score)\n",
    "\n",
    "# print(df_info.info(), \"\\n\")  # 43400 rows  43400 not-null\n",
    "# print(df_score.info(), \"\\n\")  # 43404 rows  43400 not-null\n",
    "# print(df_info.isnull().sum(), \"\\n\")  # 0\n",
    "# print(df_score.isnull().sum(), \"\\n\")  # 0\n"
   ],
   "metadata": {
    "collapsed": false,
    "ExecuteTime": {
     "end_time": "2024-05-08T12:52:13.017080100Z",
     "start_time": "2024-05-08T12:52:12.850997400Z"
    }
   },
   "id": "bb32f2868a65de55"
  },
  {
   "cell_type": "markdown",
   "source": [
    "存在重复的考生号 (认为第二次出现为无效数据)"
   ],
   "metadata": {
    "collapsed": false
   },
   "id": "30d6d22a18432fce"
  },
  {
   "cell_type": "code",
   "execution_count": 51,
   "outputs": [],
   "source": [
    "# 查看df_info中存在重复的考生号 (df_score同理)\n",
    "df_info_id_count = df_info['考生号'].value_counts()\n",
    "df_info_id_count_dup = df_info_id_count[df_info_id_count > 1]\n",
    "df_score_id_count = df_score['考生号'].value_counts()\n",
    "df_score_id_count_dup = df_score_id_count[df_score_id_count > 1]\n",
    "# print(df_info_id_count_dup, df_score_id_count_dup)  # 5  # 5\n",
    "\n",
    "# 对于df_info中重复的考生号，保留第一次出现的，删除后面的 (df_score同理)\n",
    "df_info = df_info.drop_duplicates(subset='考生号', keep='first')\n",
    "df_score = df_score.drop_duplicates(subset='考生号', keep='first')\n",
    "# print(df_info)  # 43400 -> 43395\n",
    "# print(df_score)  # 43404 -> 43399\n"
   ],
   "metadata": {
    "collapsed": false,
    "ExecuteTime": {
     "end_time": "2024-05-08T12:52:13.022080400Z",
     "start_time": "2024-05-08T12:52:12.901081Z"
    }
   },
   "id": "f8869352f0f7fe27"
  },
  {
   "cell_type": "markdown",
   "source": [
    "# Q1.1"
   ],
   "metadata": {
    "collapsed": false
   },
   "id": "19e8e65b238aecd"
  },
  {
   "cell_type": "markdown",
   "source": [
    "两张表考生号枚举值"
   ],
   "metadata": {
    "collapsed": false
   },
   "id": "f346332ef7ba6ef8"
  },
  {
   "cell_type": "code",
   "execution_count": 52,
   "outputs": [],
   "source": [
    "# 列出df_info、df_score中列名为考生号的枚举值\n",
    "df_info_id = df_info['考生号'].unique()\n",
    "df_score_id = df_score['考生号'].unique()\n",
    "\n",
    "# 列出df_info有的、df_score没有的考生号；列出df_score有的、df_info没有的考生号\n",
    "df_info_id_only = list(set(df_info_id) - set(df_score_id))\n",
    "df_score_id_only = list(set(df_score_id) - set(df_info_id))\n",
    "# print(df_info_id_only, df_score_id_only)  # []  # [21951722, 63822363, 76290389, 49590743]\n"
   ],
   "metadata": {
    "collapsed": false,
    "ExecuteTime": {
     "end_time": "2024-05-08T12:52:13.037080100Z",
     "start_time": "2024-05-08T12:52:12.915080800Z"
    }
   },
   "id": "d14c8a2944dc2ba3"
  },
  {
   "cell_type": "markdown",
   "source": [
    "Q1.1：有考生信息没有考生成绩的，请将该考生成绩全部置零"
   ],
   "metadata": {
    "collapsed": false
   },
   "id": "d73d4a70a4950f12"
  },
  {
   "cell_type": "code",
   "execution_count": 53,
   "outputs": [],
   "source": [
    "# 不存在这样的信息，不用操作"
   ],
   "metadata": {
    "collapsed": false,
    "ExecuteTime": {
     "end_time": "2024-05-08T12:52:13.037080100Z",
     "start_time": "2024-05-08T12:52:12.946081200Z"
    }
   },
   "id": "856294bd5526e05f"
  },
  {
   "cell_type": "markdown",
   "source": [
    "Q1.1：如果有考生成绩没有考生信息的，请将该考生成绩记录删除"
   ],
   "metadata": {
    "collapsed": false
   },
   "id": "a8cbad62fb6a0c92"
  },
  {
   "cell_type": "code",
   "execution_count": 54,
   "outputs": [
    {
     "data": {
      "text/plain": "            考生号   语文   数学   英语  物理  化学  生物  政治  历史  地理    体育\n0      38096712   96   72   61  82  59  62  56  62  48  35.6\n1      23257273  103   74  118  74  65  38  47  48  48  29.4\n2      95989074  119  117  114  93  83  87  77  88  89  38.0\n3      36935864  102  107  112  82  78  77  77  78  79  38.7\n4      78065505  120  125  137  87  81  84  90  95  93  35.2\n...         ...  ...  ...  ...  ..  ..  ..  ..  ..  ..   ...\n43399  44312981  100   93   69  82  59  44  20  82  91  26.6\n43400  17013515   95   96   61  76  70  70  68  71  82  30.1\n43401   8692931   77   83   34  67  54  62  40  55  75  38.3\n43402  99451616  124  130  143  98  85  85  91  94  96  38.3\n43403  69606772  117   92  102  87  86  70  82  91  86  38.3\n\n[43395 rows x 11 columns]",
      "text/html": "<div>\n<style scoped>\n    .dataframe tbody tr th:only-of-type {\n        vertical-align: middle;\n    }\n\n    .dataframe tbody tr th {\n        vertical-align: top;\n    }\n\n    .dataframe thead th {\n        text-align: right;\n    }\n</style>\n<table border=\"1\" class=\"dataframe\">\n  <thead>\n    <tr style=\"text-align: right;\">\n      <th></th>\n      <th>考生号</th>\n      <th>语文</th>\n      <th>数学</th>\n      <th>英语</th>\n      <th>物理</th>\n      <th>化学</th>\n      <th>生物</th>\n      <th>政治</th>\n      <th>历史</th>\n      <th>地理</th>\n      <th>体育</th>\n    </tr>\n  </thead>\n  <tbody>\n    <tr>\n      <th>0</th>\n      <td>38096712</td>\n      <td>96</td>\n      <td>72</td>\n      <td>61</td>\n      <td>82</td>\n      <td>59</td>\n      <td>62</td>\n      <td>56</td>\n      <td>62</td>\n      <td>48</td>\n      <td>35.6</td>\n    </tr>\n    <tr>\n      <th>1</th>\n      <td>23257273</td>\n      <td>103</td>\n      <td>74</td>\n      <td>118</td>\n      <td>74</td>\n      <td>65</td>\n      <td>38</td>\n      <td>47</td>\n      <td>48</td>\n      <td>48</td>\n      <td>29.4</td>\n    </tr>\n    <tr>\n      <th>2</th>\n      <td>95989074</td>\n      <td>119</td>\n      <td>117</td>\n      <td>114</td>\n      <td>93</td>\n      <td>83</td>\n      <td>87</td>\n      <td>77</td>\n      <td>88</td>\n      <td>89</td>\n      <td>38.0</td>\n    </tr>\n    <tr>\n      <th>3</th>\n      <td>36935864</td>\n      <td>102</td>\n      <td>107</td>\n      <td>112</td>\n      <td>82</td>\n      <td>78</td>\n      <td>77</td>\n      <td>77</td>\n      <td>78</td>\n      <td>79</td>\n      <td>38.7</td>\n    </tr>\n    <tr>\n      <th>4</th>\n      <td>78065505</td>\n      <td>120</td>\n      <td>125</td>\n      <td>137</td>\n      <td>87</td>\n      <td>81</td>\n      <td>84</td>\n      <td>90</td>\n      <td>95</td>\n      <td>93</td>\n      <td>35.2</td>\n    </tr>\n    <tr>\n      <th>...</th>\n      <td>...</td>\n      <td>...</td>\n      <td>...</td>\n      <td>...</td>\n      <td>...</td>\n      <td>...</td>\n      <td>...</td>\n      <td>...</td>\n      <td>...</td>\n      <td>...</td>\n      <td>...</td>\n    </tr>\n    <tr>\n      <th>43399</th>\n      <td>44312981</td>\n      <td>100</td>\n      <td>93</td>\n      <td>69</td>\n      <td>82</td>\n      <td>59</td>\n      <td>44</td>\n      <td>20</td>\n      <td>82</td>\n      <td>91</td>\n      <td>26.6</td>\n    </tr>\n    <tr>\n      <th>43400</th>\n      <td>17013515</td>\n      <td>95</td>\n      <td>96</td>\n      <td>61</td>\n      <td>76</td>\n      <td>70</td>\n      <td>70</td>\n      <td>68</td>\n      <td>71</td>\n      <td>82</td>\n      <td>30.1</td>\n    </tr>\n    <tr>\n      <th>43401</th>\n      <td>8692931</td>\n      <td>77</td>\n      <td>83</td>\n      <td>34</td>\n      <td>67</td>\n      <td>54</td>\n      <td>62</td>\n      <td>40</td>\n      <td>55</td>\n      <td>75</td>\n      <td>38.3</td>\n    </tr>\n    <tr>\n      <th>43402</th>\n      <td>99451616</td>\n      <td>124</td>\n      <td>130</td>\n      <td>143</td>\n      <td>98</td>\n      <td>85</td>\n      <td>85</td>\n      <td>91</td>\n      <td>94</td>\n      <td>96</td>\n      <td>38.3</td>\n    </tr>\n    <tr>\n      <th>43403</th>\n      <td>69606772</td>\n      <td>117</td>\n      <td>92</td>\n      <td>102</td>\n      <td>87</td>\n      <td>86</td>\n      <td>70</td>\n      <td>82</td>\n      <td>91</td>\n      <td>86</td>\n      <td>38.3</td>\n    </tr>\n  </tbody>\n</table>\n<p>43395 rows × 11 columns</p>\n</div>"
     },
     "execution_count": 54,
     "metadata": {},
     "output_type": "execute_result"
    }
   ],
   "source": [
    "# 删除df_score中的df_score_id_only对应的行\n",
    "df_score = df_score[~df_score['考生号'].isin(df_score_id_only)]\n",
    "# print(df_score)  # 43399 -> 43395\n",
    "\n",
    "df_score"
   ],
   "metadata": {
    "collapsed": false,
    "ExecuteTime": {
     "end_time": "2024-05-08T12:52:13.038080500Z",
     "start_time": "2024-05-08T12:52:12.962080600Z"
    }
   },
   "id": "d8eda7e22576cf36"
  },
  {
   "cell_type": "markdown",
   "source": [
    "# Q1.2"
   ],
   "metadata": {
    "collapsed": false
   },
   "id": "11507f3649ce0136"
  },
  {
   "cell_type": "markdown",
   "source": [
    "查看字段：县区代码、学校代码"
   ],
   "metadata": {
    "collapsed": false
   },
   "id": "4313d914287d927e"
  },
  {
   "cell_type": "code",
   "execution_count": 55,
   "outputs": [],
   "source": [
    "# 查看df_info中，县区代码字段的枚举值；查看df_info中，学校代码字段的枚举值\n",
    "df_info_area = df_info['县区代码'].unique()\n",
    "df_info_school = df_info['学校代码'].unique()\n",
    "# print(len(df_info_area), len(df_info_school))  # 15  # 217\n",
    "# print(df_info_area, \"\\n\", df_info_school)\n",
    "\n",
    "# 统计每个学校在每个县区的考生数量\n",
    "df_info_group_school_area = df_info.groupby(['学校代码', '县区代码'])['考生号'].count().reset_index(name='考生数量')\n",
    "# print(df_info_group_school_area)  # 376"
   ],
   "metadata": {
    "collapsed": false,
    "ExecuteTime": {
     "end_time": "2024-05-08T12:52:13.038080500Z",
     "start_time": "2024-05-08T12:52:12.978081100Z"
    }
   },
   "id": "c01e12da75ef1aa4"
  },
  {
   "cell_type": "markdown",
   "source": [
    "Q1.2：部分学校出现在多个县区中，请将学校保留在考生最多的县区中，并将其它县区改为这个县区"
   ],
   "metadata": {
    "collapsed": false
   },
   "id": "e6584debbb1b771f"
  },
  {
   "cell_type": "code",
   "execution_count": 56,
   "outputs": [
    {
     "data": {
      "text/plain": "            考生号 性别  县区代码    学校代码\n0      60898139  女  9076  593115\n1      42872499  女   160  474412\n2      73504698  男  9076  593115\n3      98149243  男   160  474412\n4      91911749  女   160  474412\n...         ... ..   ...     ...\n43395   3321431  男  9952  894151\n43396  46037229  男  9952  894151\n43397  71376463  男  9952  894151\n43398  70375747  男  9952  205368\n43399  12436784  男  9952  205368\n\n[43395 rows x 4 columns]",
      "text/html": "<div>\n<style scoped>\n    .dataframe tbody tr th:only-of-type {\n        vertical-align: middle;\n    }\n\n    .dataframe tbody tr th {\n        vertical-align: top;\n    }\n\n    .dataframe thead th {\n        text-align: right;\n    }\n</style>\n<table border=\"1\" class=\"dataframe\">\n  <thead>\n    <tr style=\"text-align: right;\">\n      <th></th>\n      <th>考生号</th>\n      <th>性别</th>\n      <th>县区代码</th>\n      <th>学校代码</th>\n    </tr>\n  </thead>\n  <tbody>\n    <tr>\n      <th>0</th>\n      <td>60898139</td>\n      <td>女</td>\n      <td>9076</td>\n      <td>593115</td>\n    </tr>\n    <tr>\n      <th>1</th>\n      <td>42872499</td>\n      <td>女</td>\n      <td>160</td>\n      <td>474412</td>\n    </tr>\n    <tr>\n      <th>2</th>\n      <td>73504698</td>\n      <td>男</td>\n      <td>9076</td>\n      <td>593115</td>\n    </tr>\n    <tr>\n      <th>3</th>\n      <td>98149243</td>\n      <td>男</td>\n      <td>160</td>\n      <td>474412</td>\n    </tr>\n    <tr>\n      <th>4</th>\n      <td>91911749</td>\n      <td>女</td>\n      <td>160</td>\n      <td>474412</td>\n    </tr>\n    <tr>\n      <th>...</th>\n      <td>...</td>\n      <td>...</td>\n      <td>...</td>\n      <td>...</td>\n    </tr>\n    <tr>\n      <th>43395</th>\n      <td>3321431</td>\n      <td>男</td>\n      <td>9952</td>\n      <td>894151</td>\n    </tr>\n    <tr>\n      <th>43396</th>\n      <td>46037229</td>\n      <td>男</td>\n      <td>9952</td>\n      <td>894151</td>\n    </tr>\n    <tr>\n      <th>43397</th>\n      <td>71376463</td>\n      <td>男</td>\n      <td>9952</td>\n      <td>894151</td>\n    </tr>\n    <tr>\n      <th>43398</th>\n      <td>70375747</td>\n      <td>男</td>\n      <td>9952</td>\n      <td>205368</td>\n    </tr>\n    <tr>\n      <th>43399</th>\n      <td>12436784</td>\n      <td>男</td>\n      <td>9952</td>\n      <td>205368</td>\n    </tr>\n  </tbody>\n</table>\n<p>43395 rows × 4 columns</p>\n</div>"
     },
     "execution_count": 56,
     "metadata": {},
     "output_type": "execute_result"
    }
   ],
   "source": [
    "# 确定每个学校最多的考生所在县区\n",
    "max_students_per_school = df_info_group_school_area.loc[\n",
    "    df_info_group_school_area.groupby('学校代码')['考生数量'].idxmax()]\n",
    "# print(max_students_per_school)  # 217\n",
    "\n",
    "# 创建一个映射，将学校代码映射到最多的考生所在县区代码\n",
    "school_to_area_map = max_students_per_school.set_index('学校代码')['县区代码'].to_dict()\n",
    "# print(len(school_to_area_map), \"\\n\", school_to_area_map)  # 217\n",
    "\n",
    "# 使用映射更新df_info\n",
    "df_info['县区代码'] = df_info.apply(lambda row: school_to_area_map.get(row['学校代码'], row['县区代码']), axis=1)\n",
    "\n",
    "# check\n",
    "df_info_group_school_area = df_info.groupby(['学校代码', '县区代码'])['考生号'].count().reset_index(name='考生数量')\n",
    "# print(df_info_group_school_area)  # 376 -> 217\n",
    "\n",
    "df_info\n"
   ],
   "metadata": {
    "collapsed": false,
    "ExecuteTime": {
     "end_time": "2024-05-08T12:52:13.173080800Z",
     "start_time": "2024-05-08T12:52:13.001081400Z"
    }
   },
   "id": "1c7839dc37854f06"
  },
  {
   "cell_type": "markdown",
   "source": [
    "# Q1.3"
   ],
   "metadata": {
    "collapsed": false
   },
   "id": "21f20fdc25dc8f9"
  },
  {
   "cell_type": "markdown",
   "source": [
    "Q1.3：折算后计算总分"
   ],
   "metadata": {
    "collapsed": false
   },
   "id": "fed97dae74a4a286"
  },
  {
   "cell_type": "code",
   "execution_count": 57,
   "outputs": [
    {
     "data": {
      "text/plain": "            考生号   语文   数学   英语  物理  化学  生物  政治  历史  地理    体育   折算总分\n0      38096712   96   72   61  82  59  62  56  62  48  35.6  441.2\n1      23257273  103   74  118  74  65  38  47  48  48  29.4  481.1\n2      95989074  119  117  114  93  83  87  77  88  89  38.0  628.9\n3      36935864  102  107  112  82  78  77  77  78  79  38.7  580.0\n4      78065505  120  125  137  87  81  84  90  95  93  35.2  663.6\n...         ...  ...  ...  ...  ..  ..  ..  ..  ..  ..   ...    ...\n43399  44312981  100   93   69  82  59  44  20  82  91  26.6  464.7\n43400  17013515   95   96   61  76  70  70  68  71  82  30.1  484.8\n43401   8692931   77   83   34  67  54  62  40  55  75  38.3  393.5\n43402  99451616  124  130  143  98  85  85  91  94  96  38.3  691.9\n43403  69606772  117   92  102  87  86  70  82  91  86  38.3  586.4\n\n[43395 rows x 12 columns]",
      "text/html": "<div>\n<style scoped>\n    .dataframe tbody tr th:only-of-type {\n        vertical-align: middle;\n    }\n\n    .dataframe tbody tr th {\n        vertical-align: top;\n    }\n\n    .dataframe thead th {\n        text-align: right;\n    }\n</style>\n<table border=\"1\" class=\"dataframe\">\n  <thead>\n    <tr style=\"text-align: right;\">\n      <th></th>\n      <th>考生号</th>\n      <th>语文</th>\n      <th>数学</th>\n      <th>英语</th>\n      <th>物理</th>\n      <th>化学</th>\n      <th>生物</th>\n      <th>政治</th>\n      <th>历史</th>\n      <th>地理</th>\n      <th>体育</th>\n      <th>折算总分</th>\n    </tr>\n  </thead>\n  <tbody>\n    <tr>\n      <th>0</th>\n      <td>38096712</td>\n      <td>96</td>\n      <td>72</td>\n      <td>61</td>\n      <td>82</td>\n      <td>59</td>\n      <td>62</td>\n      <td>56</td>\n      <td>62</td>\n      <td>48</td>\n      <td>35.6</td>\n      <td>441.2</td>\n    </tr>\n    <tr>\n      <th>1</th>\n      <td>23257273</td>\n      <td>103</td>\n      <td>74</td>\n      <td>118</td>\n      <td>74</td>\n      <td>65</td>\n      <td>38</td>\n      <td>47</td>\n      <td>48</td>\n      <td>48</td>\n      <td>29.4</td>\n      <td>481.1</td>\n    </tr>\n    <tr>\n      <th>2</th>\n      <td>95989074</td>\n      <td>119</td>\n      <td>117</td>\n      <td>114</td>\n      <td>93</td>\n      <td>83</td>\n      <td>87</td>\n      <td>77</td>\n      <td>88</td>\n      <td>89</td>\n      <td>38.0</td>\n      <td>628.9</td>\n    </tr>\n    <tr>\n      <th>3</th>\n      <td>36935864</td>\n      <td>102</td>\n      <td>107</td>\n      <td>112</td>\n      <td>82</td>\n      <td>78</td>\n      <td>77</td>\n      <td>77</td>\n      <td>78</td>\n      <td>79</td>\n      <td>38.7</td>\n      <td>580.0</td>\n    </tr>\n    <tr>\n      <th>4</th>\n      <td>78065505</td>\n      <td>120</td>\n      <td>125</td>\n      <td>137</td>\n      <td>87</td>\n      <td>81</td>\n      <td>84</td>\n      <td>90</td>\n      <td>95</td>\n      <td>93</td>\n      <td>35.2</td>\n      <td>663.6</td>\n    </tr>\n    <tr>\n      <th>...</th>\n      <td>...</td>\n      <td>...</td>\n      <td>...</td>\n      <td>...</td>\n      <td>...</td>\n      <td>...</td>\n      <td>...</td>\n      <td>...</td>\n      <td>...</td>\n      <td>...</td>\n      <td>...</td>\n      <td>...</td>\n    </tr>\n    <tr>\n      <th>43399</th>\n      <td>44312981</td>\n      <td>100</td>\n      <td>93</td>\n      <td>69</td>\n      <td>82</td>\n      <td>59</td>\n      <td>44</td>\n      <td>20</td>\n      <td>82</td>\n      <td>91</td>\n      <td>26.6</td>\n      <td>464.7</td>\n    </tr>\n    <tr>\n      <th>43400</th>\n      <td>17013515</td>\n      <td>95</td>\n      <td>96</td>\n      <td>61</td>\n      <td>76</td>\n      <td>70</td>\n      <td>70</td>\n      <td>68</td>\n      <td>71</td>\n      <td>82</td>\n      <td>30.1</td>\n      <td>484.8</td>\n    </tr>\n    <tr>\n      <th>43401</th>\n      <td>8692931</td>\n      <td>77</td>\n      <td>83</td>\n      <td>34</td>\n      <td>67</td>\n      <td>54</td>\n      <td>62</td>\n      <td>40</td>\n      <td>55</td>\n      <td>75</td>\n      <td>38.3</td>\n      <td>393.5</td>\n    </tr>\n    <tr>\n      <th>43402</th>\n      <td>99451616</td>\n      <td>124</td>\n      <td>130</td>\n      <td>143</td>\n      <td>98</td>\n      <td>85</td>\n      <td>85</td>\n      <td>91</td>\n      <td>94</td>\n      <td>96</td>\n      <td>38.3</td>\n      <td>691.9</td>\n    </tr>\n    <tr>\n      <th>43403</th>\n      <td>69606772</td>\n      <td>117</td>\n      <td>92</td>\n      <td>102</td>\n      <td>87</td>\n      <td>86</td>\n      <td>70</td>\n      <td>82</td>\n      <td>91</td>\n      <td>86</td>\n      <td>38.3</td>\n      <td>586.4</td>\n    </tr>\n  </tbody>\n</table>\n<p>43395 rows × 12 columns</p>\n</div>"
     },
     "execution_count": 57,
     "metadata": {},
     "output_type": "execute_result"
    }
   ],
   "source": [
    "# 折算分数\n",
    "df_q13 = df_score.copy()\n",
    "for subject, factor in subjects_discount.items():\n",
    "    df_q13[subject] = df_score[subject] * factor\n",
    "# print(df_q13)\n",
    "\n",
    "# 将每行的语数英...字段进行累加，得到总分字段\n",
    "df_q13['折算总分'] = df_q13.apply(\n",
    "    lambda row: sum(row[subject] for subject in subjects), axis=1)\n",
    "df_score['折算总分'] = df_q13['折算总分'].apply(lambda x: round(x, 2))\n",
    "\n",
    "df_score"
   ],
   "metadata": {
    "collapsed": false,
    "ExecuteTime": {
     "end_time": "2024-05-08T12:52:13.798757500Z",
     "start_time": "2024-05-08T12:52:13.169080600Z"
    }
   },
   "id": "50341b7051fcc983"
  },
  {
   "cell_type": "markdown",
   "source": [
    "# Q2"
   ],
   "metadata": {
    "collapsed": false
   },
   "id": "9c2889dc93348878"
  },
  {
   "cell_type": "markdown",
   "source": [
    "合并两张表"
   ],
   "metadata": {
    "collapsed": false
   },
   "id": "db2e8f9cc795234c"
  },
  {
   "cell_type": "code",
   "execution_count": 58,
   "outputs": [],
   "source": [
    "df_merge_info_score = pd.merge(df_info, df_score, on='考生号')\n",
    "# print(len(df_info), len(df_score), len(df_merge_info_score))  # 43395  # 43395  # 43395\n",
    "\n",
    "# 以csv形式输出中间结果\n",
    "df_info.to_csv(\"./tmp/df_info.csv\", index=False)\n",
    "df_score.to_csv(\"./tmp/df_score.csv\", index=False)\n",
    "df_merge_info_score.to_csv(\"./tmp/df_merge_info_score.csv\", index=False)\n",
    "\n",
    "\n",
    "# 在df_merge_info_score，当subjects字段都为0时，认为是缺考，其缺考字段设置为1，否则设置为0\n",
    "df_merge_info_score['缺考'] = df_merge_info_score.apply(\n",
    "    lambda row: 1 if sum(row[subject] for subject in subjects) == 0 else 0, axis=1)\n",
    "df_merge_info_score.to_csv(\"./tmp/df_merge_info_score.csv\", index=False)\n",
    "\n",
    "# check 查看缺考\n",
    "df_q22_missing = df_merge_info_score[df_merge_info_score['缺考'] == 1]\n",
    "# print(df_q22_missing)  # 609\n"
   ],
   "metadata": {
    "collapsed": false,
    "ExecuteTime": {
     "end_time": "2024-05-08T12:52:14.684055400Z",
     "start_time": "2024-05-08T12:52:13.801189800Z"
    }
   },
   "id": "c39089835c7faca7"
  },
  {
   "cell_type": "markdown",
   "source": [
    "每个考生的语数英三科均分率、十科均分率"
   ],
   "metadata": {
    "collapsed": false
   },
   "id": "bd7ddd51d4068202"
  },
  {
   "cell_type": "code",
   "execution_count": 59,
   "outputs": [],
   "source": [
    "# 计算每个考生的语数英总分、所有科目成绩累加\n",
    "df_merge_info_score['语数英总分'] = df_merge_info_score[subjects[:3]].sum(axis=1)\n",
    "# 计算每个考生的语数英均分率(450；要求以百分比形式，保留两位小数)\n",
    "df_merge_info_score['语数英三科均分率(%)'] = df_merge_info_score.apply(\n",
    "    lambda row: round(row['语数英总分'] / 450 * 100, 2), axis=1)\n",
    "# 计算每个考生的所有科目均分率(800；要求以百分比形式，保留两位小数)\n",
    "df_merge_info_score['十科均分率(%)'] = df_merge_info_score.apply(\n",
    "    lambda row: round(row['折算总分'] / 800 * 100, 2), axis=1)\n",
    "df_merge_info_score.to_csv(\"./tmp/df_merge_info_score.csv\", index=False)\n"
   ],
   "metadata": {
    "collapsed": false,
    "ExecuteTime": {
     "end_time": "2024-05-08T12:52:15.063223500Z",
     "start_time": "2024-05-08T12:52:14.686057400Z"
    }
   },
   "id": "5772e93f4a2411e1"
  },
  {
   "cell_type": "markdown",
   "source": [
    "每个考生的优秀情况"
   ],
   "metadata": {
    "collapsed": false
   },
   "id": "b6bae403a5a0df95"
  },
  {
   "cell_type": "code",
   "execution_count": 60,
   "outputs": [],
   "source": [
    "# 在df_merge_info_score，判断考生是否优秀(折算总分字段>=640)，优秀为1，否则为0\n",
    "df_merge_info_score['是否优秀'] = df_merge_info_score.apply(lambda row: 1 if row['折算总分'] >= 640 else 0, axis=1)\n",
    "df_merge_info_score.to_csv(\"./tmp/df_merge_info_score.csv\", index=False)\n"
   ],
   "metadata": {
    "collapsed": false,
    "ExecuteTime": {
     "end_time": "2024-05-08T12:52:15.302086300Z",
     "start_time": "2024-05-08T12:52:15.064223700Z"
    }
   },
   "id": "1a1503532dd7772e"
  },
  {
   "cell_type": "markdown",
   "source": [
    "每个考生的及格情况"
   ],
   "metadata": {
    "collapsed": false
   },
   "id": "843ed438abc7478"
  },
  {
   "cell_type": "code",
   "execution_count": 61,
   "outputs": [
    {
     "data": {
      "text/plain": "            考生号 性别  县区代码    学校代码   语文   数学   英语  物理  化学  生物  政治  历史  地理    体育  \\\n0      60898139  女  9076  593115   72   43   48  55  41  32  31  61  44  28.9   \n1      42872499  女   160  474412  113  114  132  86  77  88  87  90  86  38.9   \n2      73504698  男  9076  593115   14   55   39  35   0   0  12  79  48  36.4   \n3      98149243  男   160  474412  100  112   61  81  67  85  79  85  91  39.5   \n4      91911749  女   160  474412  103  109  122  83  54  66  71  75  72  38.4   \n...         ... ..   ...     ...  ...  ...  ...  ..  ..  ..  ..  ..  ..   ...   \n43390   3321431  男  9952  894151   86   42   42  75  69  29  19  62  62  32.3   \n43391  46037229  男  9952  894151    0    0    0   0   0   0   0  20  21   0.0   \n43392  71376463  男  9952  894151    0    0    0   0   0   0   0  12  22   0.0   \n43393  70375747  男  9952  205368   47   51   41  35  32  20  13  39  45  29.1   \n43394  12436784  男  9952  205368   97   76   99  70  60  48  41  53  67  31.5   \n\n        折算总分  缺考  语数英总分  语数英三科均分率(%)  十科均分率(%)  是否优秀  语文是否及格  数学是否及格  英语是否及格  \\\n0      318.3   0    163        36.22     39.79     0       0       0       0   \n1      636.4   0    359        79.78     79.55     0       1       1       1   \n2      225.3   0    108        24.00     28.16     0       0       0       0   \n3      536.1   0    273        60.67     67.01     0       1       1       0   \n4      569.0   0    334        74.22     71.12     0       1       1       1   \n...      ...  ..    ...          ...       ...   ...     ...     ...     ...   \n43390  356.5   0    170        37.78     44.56     0       0       0       0   \n43391   16.3   0      0         0.00      2.04     0       0       0       0   \n43392   12.6   0      0         0.00      1.57     0       0       0       0   \n43393  253.8   0    139        30.89     31.73     0       0       0       0   \n43394  463.0   0    272        60.44     57.88     0       1       0       1   \n\n       体育是否及格  物理是否及格  化学是否及格  政治是否及格  历史是否及格  生物是否及格  地理是否及格  单科及格次数  \n0           0       0       0       0       1       0       0       1  \n1           0       1       1       1       1       1       1       9  \n2           0       0       0       0       1       0       0       1  \n3           0       1       1       1       1       1       1       8  \n4           0       1       0       1       1       1       1       8  \n...       ...     ...     ...     ...     ...     ...     ...     ...  \n43390       0       1       1       0       1       0       1       4  \n43391       0       0       0       0       0       0       0       0  \n43392       0       0       0       0       0       0       0       0  \n43393       0       0       0       0       0       0       0       0  \n43394       0       1       1       0       0       0       1       5  \n\n[43395 rows x 31 columns]",
      "text/html": "<div>\n<style scoped>\n    .dataframe tbody tr th:only-of-type {\n        vertical-align: middle;\n    }\n\n    .dataframe tbody tr th {\n        vertical-align: top;\n    }\n\n    .dataframe thead th {\n        text-align: right;\n    }\n</style>\n<table border=\"1\" class=\"dataframe\">\n  <thead>\n    <tr style=\"text-align: right;\">\n      <th></th>\n      <th>考生号</th>\n      <th>性别</th>\n      <th>县区代码</th>\n      <th>学校代码</th>\n      <th>语文</th>\n      <th>数学</th>\n      <th>英语</th>\n      <th>物理</th>\n      <th>化学</th>\n      <th>生物</th>\n      <th>政治</th>\n      <th>历史</th>\n      <th>地理</th>\n      <th>体育</th>\n      <th>折算总分</th>\n      <th>缺考</th>\n      <th>语数英总分</th>\n      <th>语数英三科均分率(%)</th>\n      <th>十科均分率(%)</th>\n      <th>是否优秀</th>\n      <th>语文是否及格</th>\n      <th>数学是否及格</th>\n      <th>英语是否及格</th>\n      <th>体育是否及格</th>\n      <th>物理是否及格</th>\n      <th>化学是否及格</th>\n      <th>政治是否及格</th>\n      <th>历史是否及格</th>\n      <th>生物是否及格</th>\n      <th>地理是否及格</th>\n      <th>单科及格次数</th>\n    </tr>\n  </thead>\n  <tbody>\n    <tr>\n      <th>0</th>\n      <td>60898139</td>\n      <td>女</td>\n      <td>9076</td>\n      <td>593115</td>\n      <td>72</td>\n      <td>43</td>\n      <td>48</td>\n      <td>55</td>\n      <td>41</td>\n      <td>32</td>\n      <td>31</td>\n      <td>61</td>\n      <td>44</td>\n      <td>28.9</td>\n      <td>318.3</td>\n      <td>0</td>\n      <td>163</td>\n      <td>36.22</td>\n      <td>39.79</td>\n      <td>0</td>\n      <td>0</td>\n      <td>0</td>\n      <td>0</td>\n      <td>0</td>\n      <td>0</td>\n      <td>0</td>\n      <td>0</td>\n      <td>1</td>\n      <td>0</td>\n      <td>0</td>\n      <td>1</td>\n    </tr>\n    <tr>\n      <th>1</th>\n      <td>42872499</td>\n      <td>女</td>\n      <td>160</td>\n      <td>474412</td>\n      <td>113</td>\n      <td>114</td>\n      <td>132</td>\n      <td>86</td>\n      <td>77</td>\n      <td>88</td>\n      <td>87</td>\n      <td>90</td>\n      <td>86</td>\n      <td>38.9</td>\n      <td>636.4</td>\n      <td>0</td>\n      <td>359</td>\n      <td>79.78</td>\n      <td>79.55</td>\n      <td>0</td>\n      <td>1</td>\n      <td>1</td>\n      <td>1</td>\n      <td>0</td>\n      <td>1</td>\n      <td>1</td>\n      <td>1</td>\n      <td>1</td>\n      <td>1</td>\n      <td>1</td>\n      <td>9</td>\n    </tr>\n    <tr>\n      <th>2</th>\n      <td>73504698</td>\n      <td>男</td>\n      <td>9076</td>\n      <td>593115</td>\n      <td>14</td>\n      <td>55</td>\n      <td>39</td>\n      <td>35</td>\n      <td>0</td>\n      <td>0</td>\n      <td>12</td>\n      <td>79</td>\n      <td>48</td>\n      <td>36.4</td>\n      <td>225.3</td>\n      <td>0</td>\n      <td>108</td>\n      <td>24.00</td>\n      <td>28.16</td>\n      <td>0</td>\n      <td>0</td>\n      <td>0</td>\n      <td>0</td>\n      <td>0</td>\n      <td>0</td>\n      <td>0</td>\n      <td>0</td>\n      <td>1</td>\n      <td>0</td>\n      <td>0</td>\n      <td>1</td>\n    </tr>\n    <tr>\n      <th>3</th>\n      <td>98149243</td>\n      <td>男</td>\n      <td>160</td>\n      <td>474412</td>\n      <td>100</td>\n      <td>112</td>\n      <td>61</td>\n      <td>81</td>\n      <td>67</td>\n      <td>85</td>\n      <td>79</td>\n      <td>85</td>\n      <td>91</td>\n      <td>39.5</td>\n      <td>536.1</td>\n      <td>0</td>\n      <td>273</td>\n      <td>60.67</td>\n      <td>67.01</td>\n      <td>0</td>\n      <td>1</td>\n      <td>1</td>\n      <td>0</td>\n      <td>0</td>\n      <td>1</td>\n      <td>1</td>\n      <td>1</td>\n      <td>1</td>\n      <td>1</td>\n      <td>1</td>\n      <td>8</td>\n    </tr>\n    <tr>\n      <th>4</th>\n      <td>91911749</td>\n      <td>女</td>\n      <td>160</td>\n      <td>474412</td>\n      <td>103</td>\n      <td>109</td>\n      <td>122</td>\n      <td>83</td>\n      <td>54</td>\n      <td>66</td>\n      <td>71</td>\n      <td>75</td>\n      <td>72</td>\n      <td>38.4</td>\n      <td>569.0</td>\n      <td>0</td>\n      <td>334</td>\n      <td>74.22</td>\n      <td>71.12</td>\n      <td>0</td>\n      <td>1</td>\n      <td>1</td>\n      <td>1</td>\n      <td>0</td>\n      <td>1</td>\n      <td>0</td>\n      <td>1</td>\n      <td>1</td>\n      <td>1</td>\n      <td>1</td>\n      <td>8</td>\n    </tr>\n    <tr>\n      <th>...</th>\n      <td>...</td>\n      <td>...</td>\n      <td>...</td>\n      <td>...</td>\n      <td>...</td>\n      <td>...</td>\n      <td>...</td>\n      <td>...</td>\n      <td>...</td>\n      <td>...</td>\n      <td>...</td>\n      <td>...</td>\n      <td>...</td>\n      <td>...</td>\n      <td>...</td>\n      <td>...</td>\n      <td>...</td>\n      <td>...</td>\n      <td>...</td>\n      <td>...</td>\n      <td>...</td>\n      <td>...</td>\n      <td>...</td>\n      <td>...</td>\n      <td>...</td>\n      <td>...</td>\n      <td>...</td>\n      <td>...</td>\n      <td>...</td>\n      <td>...</td>\n      <td>...</td>\n    </tr>\n    <tr>\n      <th>43390</th>\n      <td>3321431</td>\n      <td>男</td>\n      <td>9952</td>\n      <td>894151</td>\n      <td>86</td>\n      <td>42</td>\n      <td>42</td>\n      <td>75</td>\n      <td>69</td>\n      <td>29</td>\n      <td>19</td>\n      <td>62</td>\n      <td>62</td>\n      <td>32.3</td>\n      <td>356.5</td>\n      <td>0</td>\n      <td>170</td>\n      <td>37.78</td>\n      <td>44.56</td>\n      <td>0</td>\n      <td>0</td>\n      <td>0</td>\n      <td>0</td>\n      <td>0</td>\n      <td>1</td>\n      <td>1</td>\n      <td>0</td>\n      <td>1</td>\n      <td>0</td>\n      <td>1</td>\n      <td>4</td>\n    </tr>\n    <tr>\n      <th>43391</th>\n      <td>46037229</td>\n      <td>男</td>\n      <td>9952</td>\n      <td>894151</td>\n      <td>0</td>\n      <td>0</td>\n      <td>0</td>\n      <td>0</td>\n      <td>0</td>\n      <td>0</td>\n      <td>0</td>\n      <td>20</td>\n      <td>21</td>\n      <td>0.0</td>\n      <td>16.3</td>\n      <td>0</td>\n      <td>0</td>\n      <td>0.00</td>\n      <td>2.04</td>\n      <td>0</td>\n      <td>0</td>\n      <td>0</td>\n      <td>0</td>\n      <td>0</td>\n      <td>0</td>\n      <td>0</td>\n      <td>0</td>\n      <td>0</td>\n      <td>0</td>\n      <td>0</td>\n      <td>0</td>\n    </tr>\n    <tr>\n      <th>43392</th>\n      <td>71376463</td>\n      <td>男</td>\n      <td>9952</td>\n      <td>894151</td>\n      <td>0</td>\n      <td>0</td>\n      <td>0</td>\n      <td>0</td>\n      <td>0</td>\n      <td>0</td>\n      <td>0</td>\n      <td>12</td>\n      <td>22</td>\n      <td>0.0</td>\n      <td>12.6</td>\n      <td>0</td>\n      <td>0</td>\n      <td>0.00</td>\n      <td>1.57</td>\n      <td>0</td>\n      <td>0</td>\n      <td>0</td>\n      <td>0</td>\n      <td>0</td>\n      <td>0</td>\n      <td>0</td>\n      <td>0</td>\n      <td>0</td>\n      <td>0</td>\n      <td>0</td>\n      <td>0</td>\n    </tr>\n    <tr>\n      <th>43393</th>\n      <td>70375747</td>\n      <td>男</td>\n      <td>9952</td>\n      <td>205368</td>\n      <td>47</td>\n      <td>51</td>\n      <td>41</td>\n      <td>35</td>\n      <td>32</td>\n      <td>20</td>\n      <td>13</td>\n      <td>39</td>\n      <td>45</td>\n      <td>29.1</td>\n      <td>253.8</td>\n      <td>0</td>\n      <td>139</td>\n      <td>30.89</td>\n      <td>31.73</td>\n      <td>0</td>\n      <td>0</td>\n      <td>0</td>\n      <td>0</td>\n      <td>0</td>\n      <td>0</td>\n      <td>0</td>\n      <td>0</td>\n      <td>0</td>\n      <td>0</td>\n      <td>0</td>\n      <td>0</td>\n    </tr>\n    <tr>\n      <th>43394</th>\n      <td>12436784</td>\n      <td>男</td>\n      <td>9952</td>\n      <td>205368</td>\n      <td>97</td>\n      <td>76</td>\n      <td>99</td>\n      <td>70</td>\n      <td>60</td>\n      <td>48</td>\n      <td>41</td>\n      <td>53</td>\n      <td>67</td>\n      <td>31.5</td>\n      <td>463.0</td>\n      <td>0</td>\n      <td>272</td>\n      <td>60.44</td>\n      <td>57.88</td>\n      <td>0</td>\n      <td>1</td>\n      <td>0</td>\n      <td>1</td>\n      <td>0</td>\n      <td>1</td>\n      <td>1</td>\n      <td>0</td>\n      <td>0</td>\n      <td>0</td>\n      <td>1</td>\n      <td>5</td>\n    </tr>\n  </tbody>\n</table>\n<p>43395 rows × 31 columns</p>\n</div>"
     },
     "execution_count": 61,
     "metadata": {},
     "output_type": "execute_result"
    }
   ],
   "source": [
    "# 在df_merge_info_score，分别在各个科目中，判断考生是否及格，及格为1，否则为0\n",
    "for subject, full in subjects_full.items():\n",
    "    df_merge_info_score[subject + '是否及格'] = df_merge_info_score.apply(\n",
    "        lambda row: 1 if row[subject] >= full * 0.6 else 0, axis=1)\n",
    "\n",
    "# df_merge_info_score，对[subject + '是否及格']的各个字段求和，得到一个考生的及格次数\n",
    "df_merge_info_score['单科及格次数'] = df_merge_info_score[\n",
    "    list(subject + '是否及格' for subject in subjects_full.keys())].sum(axis=1)\n",
    "df_merge_info_score.to_csv(\"./tmp/df_merge_info_score.csv\", index=False)\n",
    "\n",
    "df_merge_info_score\n"
   ],
   "metadata": {
    "collapsed": false,
    "ExecuteTime": {
     "end_time": "2024-05-08T12:52:16.626117500Z",
     "start_time": "2024-05-08T12:52:15.307089400Z"
    }
   },
   "id": "8b7446cb937d1a1"
  },
  {
   "cell_type": "markdown",
   "source": [
    "# Q2.2"
   ],
   "metadata": {
    "collapsed": false
   },
   "id": "1fc19ac5656f1c6"
  },
  {
   "cell_type": "markdown",
   "source": [
    "每个县区的考生数、与考数、与考率"
   ],
   "metadata": {
    "collapsed": false
   },
   "id": "2b2568174aa8dcc8"
  },
  {
   "cell_type": "code",
   "execution_count": 62,
   "outputs": [],
   "source": [
    "# 对于每个县区，计算考生数\n",
    "df_q22_1 = df_merge_info_score['县区代码'].value_counts().reset_index()\n",
    "df_q22_1.columns = ['县区代码', '考生数']\n",
    "# 对于每个县区，计算非缺考人数\n",
    "every_area_missing = df_merge_info_score.groupby('县区代码')['缺考'].sum().reset_index()\n",
    "every_area_missing.columns = ['县区代码', '缺考人数']\n",
    "# print(df_q22_1, \"\\n\", every_area_missing)\n",
    "\n",
    "# 对于每个县区，与考数 = 考生数 - 缺考人数\n",
    "df_q22 = pd.merge(df_q22_1, every_area_missing, on='县区代码', how='left')\n",
    "df_q22['与考数'] = df_q22['考生数'] - df_q22['缺考人数']\n",
    "# 对于每个学校，计算与考率 (与考数除以考生数，要求以百分比形式，保留两位小数)\n",
    "df_q22[\"与考率(%)\"] = df_q22.apply(lambda row: round(row['与考数'] / row['考生数'] * 100, 2), axis=1)\n",
    "df_q22.to_csv(\"./tmp/df_q22.csv\", index=False)\n"
   ],
   "metadata": {
    "collapsed": false,
    "ExecuteTime": {
     "end_time": "2024-05-08T12:52:16.671831500Z",
     "start_time": "2024-05-08T12:52:16.630113100Z"
    }
   },
   "id": "ba53b1bfb9dcd742"
  },
  {
   "cell_type": "markdown",
   "source": [
    "每个县区的语数英均分率、十科均分率"
   ],
   "metadata": {
    "collapsed": false
   },
   "id": "dddb8a5334db503b"
  },
  {
   "cell_type": "code",
   "execution_count": 63,
   "outputs": [],
   "source": [
    "# 计算每个县区的语数英均分率、所有科目均分率\n",
    "df_q22_2 = df_merge_info_score.groupby('县区代码')['语数英三科均分率(%)'].mean().reset_index(name='语数英三科均分率(%)')\n",
    "df_q22_3 = df_merge_info_score.groupby('县区代码')['十科均分率(%)'].mean().reset_index(name='十科均分率(%)')\n",
    "# 保留两位小数\n",
    "df_q22_2['语数英三科均分率(%)'] = df_q22_2['语数英三科均分率(%)'].apply(lambda x: round(x, 2))\n",
    "df_q22_3['十科均分率(%)'] = df_q22_3['十科均分率(%)'].apply(lambda x: round(x, 2))\n",
    "# print(df_q22_2，\"\\n\", df_q22_3)\n",
    "\n",
    "df_q22 = pd.merge(df_q22, df_q22_2, on='县区代码', how='left')\n",
    "df_q22 = pd.merge(df_q22, df_q22_3, on='县区代码', how='left')\n",
    "df_q22.to_csv(\"./tmp/df_q22.csv\", index=False)"
   ],
   "metadata": {
    "collapsed": false,
    "ExecuteTime": {
     "end_time": "2024-05-08T12:52:16.678834400Z",
     "start_time": "2024-05-08T12:52:16.642830800Z"
    }
   },
   "id": "83fef1ec3eddfda4"
  },
  {
   "cell_type": "markdown",
   "source": [
    "每个县区的优秀率、单科及格率"
   ],
   "metadata": {
    "collapsed": false
   },
   "id": "7b48bbccddd46fb2"
  },
  {
   "cell_type": "code",
   "execution_count": 64,
   "outputs": [],
   "source": [
    "# 计算每个县区的优秀率\n",
    "df_q22_4 = df_merge_info_score.groupby('县区代码')['是否优秀'].mean().reset_index(name='优秀率(%)')\n",
    "df_q22_4['优秀率(%)'] = df_q22_4['优秀率(%)'].apply(lambda x: round(x * 100, 2))\n",
    "# print(df_q22_4)\n",
    "df_q22 = pd.merge(df_q22, df_q22_4, on='县区代码', how='left')\n",
    "df_q22.to_csv(\"./tmp/df_q22.csv\", index=False)\n",
    "\n",
    "# 计算每个县区的及格人次\n",
    "df_q22_5 = df_merge_info_score.groupby('县区代码')['单科及格次数'].sum().reset_index(name='单科及格人次')\n",
    "# print(df_q22_5)\n",
    "df_q22 = pd.merge(df_q22, df_q22_5, on='县区代码', how='left')\n",
    "# 计算每个县区的及格率 (及格人次除以考生数*10，要求以百分比形式，保留两位小数)\n",
    "df_q22['单科及格率(%)'] = df_q22.apply(lambda row: round(row['单科及格人次'] / (row['与考数'] * 10) * 100, 2), axis=1)\n",
    "df_q22.to_csv(\"./tmp/df_q22.csv\", index=False)"
   ],
   "metadata": {
    "collapsed": false,
    "ExecuteTime": {
     "end_time": "2024-05-08T12:52:16.697830300Z",
     "start_time": "2024-05-08T12:52:16.675834500Z"
    }
   },
   "id": "fc061746cc32a489"
  },
  {
   "cell_type": "markdown",
   "source": [
    "每个县区的四率综合比、排名"
   ],
   "metadata": {
    "collapsed": false
   },
   "id": "fbdc8e2241ae82ef"
  },
  {
   "cell_type": "code",
   "execution_count": 65,
   "outputs": [],
   "source": [
    "# 对df_q22，四率综合比：（语数英三科均分率+十科均分率）* 0.3 + （优秀率 + 单科及格率）* 0.2。（要求以百分比形式，保留两位小数）\n",
    "df_q22['四率综合比(%)'] = df_q22.apply(\n",
    "    lambda row: round(\n",
    "        (row['语数英三科均分率(%)'] + row['十科均分率(%)']) * 0.3 + (row['优秀率(%)'] + row['单科及格率(%)']) * 0.2, 2),\n",
    "    axis=1)\n",
    "# 对df_q22，按综合四率排序\n",
    "df_q22['排名'] = df_q22['四率综合比(%)'].rank(ascending=False).astype(int)\n",
    "df_q22 = df_q22.sort_values(by='四率综合比(%)', ascending=False)\n",
    "df_q22.to_csv(\"./tmp/df_q22.csv\", index=False)"
   ],
   "metadata": {
    "collapsed": false,
    "ExecuteTime": {
     "end_time": "2024-05-08T12:52:16.714830500Z",
     "start_time": "2024-05-08T12:52:16.690834700Z"
    }
   },
   "id": "3d95fe7a5a18067f"
  },
  {
   "cell_type": "markdown",
   "source": [
    "输出结果"
   ],
   "metadata": {
    "collapsed": false
   },
   "id": "b387e579933fb69b"
  },
  {
   "cell_type": "code",
   "execution_count": 66,
   "outputs": [
    {
     "data": {
      "text/plain": "    县区代码   考生数   与考数  与考率(%)  语数英三科均分率(%)  十科均分率(%)  优秀率(%)  单科及格率(%)  \\\n4   5670  3912  3906   99.85        70.56     70.63   40.62     72.27   \n14   864   618   618  100.00        73.15     70.74   35.44     71.18   \n1   9952  5694  5668   99.54        63.76     64.23   31.59     61.92   \n8   9852  1888  1874   99.26        64.08     64.60   27.70     63.84   \n6   1614  2156  2154   99.91        63.09     63.25   17.95     60.99   \n7   7764  2005  1985   99.00        61.21     61.08   26.13     57.95   \n12   160  1355  1352   99.78        62.67     62.55   16.83     59.17   \n11  7451  1469  1461   99.46        59.57     60.47   15.86     57.36   \n0   9076  7413  7301   98.49        56.94     57.89   22.06     54.69   \n10   173  1482  1438   97.03        58.97     58.77   14.98     56.95   \n3   1995  4074  3983   97.77        56.82     56.95   13.99     52.93   \n9    992  1536  1521   99.02        56.18     57.24   13.93     52.96   \n13  4678  1019   994   97.55        56.93     57.29   11.68     53.49   \n5   8717  3888  3759   96.68        54.38     54.92   19.78     49.86   \n2   3281  4886  4772   97.67        47.61     49.00    7.51     41.37   \n\n    四率综合比(%)  排名  \n4      64.94   1  \n14     64.49   2  \n1      57.10   3  \n8      56.91   4  \n6      53.69   5  \n7      53.50   6  \n12     52.77   7  \n11     50.66   8  \n0      49.80   9  \n10     49.71  10  \n3      47.52  11  \n9      47.40  12  \n13     47.30  13  \n5      46.72  14  \n2      38.76  15  ",
      "text/html": "<div>\n<style scoped>\n    .dataframe tbody tr th:only-of-type {\n        vertical-align: middle;\n    }\n\n    .dataframe tbody tr th {\n        vertical-align: top;\n    }\n\n    .dataframe thead th {\n        text-align: right;\n    }\n</style>\n<table border=\"1\" class=\"dataframe\">\n  <thead>\n    <tr style=\"text-align: right;\">\n      <th></th>\n      <th>县区代码</th>\n      <th>考生数</th>\n      <th>与考数</th>\n      <th>与考率(%)</th>\n      <th>语数英三科均分率(%)</th>\n      <th>十科均分率(%)</th>\n      <th>优秀率(%)</th>\n      <th>单科及格率(%)</th>\n      <th>四率综合比(%)</th>\n      <th>排名</th>\n    </tr>\n  </thead>\n  <tbody>\n    <tr>\n      <th>4</th>\n      <td>5670</td>\n      <td>3912</td>\n      <td>3906</td>\n      <td>99.85</td>\n      <td>70.56</td>\n      <td>70.63</td>\n      <td>40.62</td>\n      <td>72.27</td>\n      <td>64.94</td>\n      <td>1</td>\n    </tr>\n    <tr>\n      <th>14</th>\n      <td>864</td>\n      <td>618</td>\n      <td>618</td>\n      <td>100.00</td>\n      <td>73.15</td>\n      <td>70.74</td>\n      <td>35.44</td>\n      <td>71.18</td>\n      <td>64.49</td>\n      <td>2</td>\n    </tr>\n    <tr>\n      <th>1</th>\n      <td>9952</td>\n      <td>5694</td>\n      <td>5668</td>\n      <td>99.54</td>\n      <td>63.76</td>\n      <td>64.23</td>\n      <td>31.59</td>\n      <td>61.92</td>\n      <td>57.10</td>\n      <td>3</td>\n    </tr>\n    <tr>\n      <th>8</th>\n      <td>9852</td>\n      <td>1888</td>\n      <td>1874</td>\n      <td>99.26</td>\n      <td>64.08</td>\n      <td>64.60</td>\n      <td>27.70</td>\n      <td>63.84</td>\n      <td>56.91</td>\n      <td>4</td>\n    </tr>\n    <tr>\n      <th>6</th>\n      <td>1614</td>\n      <td>2156</td>\n      <td>2154</td>\n      <td>99.91</td>\n      <td>63.09</td>\n      <td>63.25</td>\n      <td>17.95</td>\n      <td>60.99</td>\n      <td>53.69</td>\n      <td>5</td>\n    </tr>\n    <tr>\n      <th>7</th>\n      <td>7764</td>\n      <td>2005</td>\n      <td>1985</td>\n      <td>99.00</td>\n      <td>61.21</td>\n      <td>61.08</td>\n      <td>26.13</td>\n      <td>57.95</td>\n      <td>53.50</td>\n      <td>6</td>\n    </tr>\n    <tr>\n      <th>12</th>\n      <td>160</td>\n      <td>1355</td>\n      <td>1352</td>\n      <td>99.78</td>\n      <td>62.67</td>\n      <td>62.55</td>\n      <td>16.83</td>\n      <td>59.17</td>\n      <td>52.77</td>\n      <td>7</td>\n    </tr>\n    <tr>\n      <th>11</th>\n      <td>7451</td>\n      <td>1469</td>\n      <td>1461</td>\n      <td>99.46</td>\n      <td>59.57</td>\n      <td>60.47</td>\n      <td>15.86</td>\n      <td>57.36</td>\n      <td>50.66</td>\n      <td>8</td>\n    </tr>\n    <tr>\n      <th>0</th>\n      <td>9076</td>\n      <td>7413</td>\n      <td>7301</td>\n      <td>98.49</td>\n      <td>56.94</td>\n      <td>57.89</td>\n      <td>22.06</td>\n      <td>54.69</td>\n      <td>49.80</td>\n      <td>9</td>\n    </tr>\n    <tr>\n      <th>10</th>\n      <td>173</td>\n      <td>1482</td>\n      <td>1438</td>\n      <td>97.03</td>\n      <td>58.97</td>\n      <td>58.77</td>\n      <td>14.98</td>\n      <td>56.95</td>\n      <td>49.71</td>\n      <td>10</td>\n    </tr>\n    <tr>\n      <th>3</th>\n      <td>1995</td>\n      <td>4074</td>\n      <td>3983</td>\n      <td>97.77</td>\n      <td>56.82</td>\n      <td>56.95</td>\n      <td>13.99</td>\n      <td>52.93</td>\n      <td>47.52</td>\n      <td>11</td>\n    </tr>\n    <tr>\n      <th>9</th>\n      <td>992</td>\n      <td>1536</td>\n      <td>1521</td>\n      <td>99.02</td>\n      <td>56.18</td>\n      <td>57.24</td>\n      <td>13.93</td>\n      <td>52.96</td>\n      <td>47.40</td>\n      <td>12</td>\n    </tr>\n    <tr>\n      <th>13</th>\n      <td>4678</td>\n      <td>1019</td>\n      <td>994</td>\n      <td>97.55</td>\n      <td>56.93</td>\n      <td>57.29</td>\n      <td>11.68</td>\n      <td>53.49</td>\n      <td>47.30</td>\n      <td>13</td>\n    </tr>\n    <tr>\n      <th>5</th>\n      <td>8717</td>\n      <td>3888</td>\n      <td>3759</td>\n      <td>96.68</td>\n      <td>54.38</td>\n      <td>54.92</td>\n      <td>19.78</td>\n      <td>49.86</td>\n      <td>46.72</td>\n      <td>14</td>\n    </tr>\n    <tr>\n      <th>2</th>\n      <td>3281</td>\n      <td>4886</td>\n      <td>4772</td>\n      <td>97.67</td>\n      <td>47.61</td>\n      <td>49.00</td>\n      <td>7.51</td>\n      <td>41.37</td>\n      <td>38.76</td>\n      <td>15</td>\n    </tr>\n  </tbody>\n</table>\n</div>"
     },
     "execution_count": 66,
     "metadata": {},
     "output_type": "execute_result"
    }
   ],
   "source": [
    "# 整理列\n",
    "df_q22 = df_q22.drop(columns=['缺考人数', '单科及格人次'])\n",
    "df_q22.to_csv(\"./tmp/df_q22.csv\", index=False)\n",
    "\n",
    "df_q22"
   ],
   "metadata": {
    "collapsed": false,
    "ExecuteTime": {
     "end_time": "2024-05-08T12:52:16.723831400Z",
     "start_time": "2024-05-08T12:52:16.706830500Z"
    }
   },
   "id": "a5d48c4699719a02"
  },
  {
   "cell_type": "markdown",
   "source": [
    "# Q2.3"
   ],
   "metadata": {
    "collapsed": false
   },
   "id": "18747f8afc4b5242"
  },
  {
   "cell_type": "markdown",
   "source": [
    "每个学校的考生数、与考数、与考率"
   ],
   "metadata": {
    "collapsed": false
   },
   "id": "492cd2ff78f94402"
  },
  {
   "cell_type": "code",
   "execution_count": 67,
   "outputs": [],
   "source": [
    "# 对于每个学校，计算考生数\n",
    "df_q23_1 = df_merge_info_score['学校代码'].value_counts().reset_index()\n",
    "df_q23_1.columns = ['学校代码', '考生数']\n",
    "# 对于每个学校，计算非缺考人数\n",
    "every_school_missing = df_merge_info_score.groupby('学校代码')['缺考'].sum().reset_index()\n",
    "every_school_missing.columns = ['学校代码', '缺考人数']\n",
    "# print(df_q23_1, every_school_missing)\n",
    "\n",
    "# 对于每个学校，与考数 = 考生数 - 缺考人数\n",
    "df_q23 = pd.merge(df_q23_1, every_school_missing, on='学校代码', how='left')\n",
    "df_q23['与考数'] = df_q23['考生数'] - df_q23['缺考人数']\n",
    "# 对于每个学校，计算与考率 (与考数除以考生数，要求以百分比形式，保留两位小数)\n",
    "df_q23[\"与考率(%)\"] = df_q23.apply(lambda row: round(row['与考数'] / row['考生数'] * 100, 2), axis=1)\n",
    "df_q23.to_csv(\"./tmp/df_q23.csv\", index=False)\n"
   ],
   "metadata": {
    "collapsed": false,
    "ExecuteTime": {
     "end_time": "2024-05-08T12:52:16.743832800Z",
     "start_time": "2024-05-08T12:52:16.724832200Z"
    }
   },
   "id": "779b86cd13981ab"
  },
  {
   "cell_type": "markdown",
   "source": [
    "每个学校的语数英三科均分率、十科均分率"
   ],
   "metadata": {
    "collapsed": false
   },
   "id": "399cb91c0206a769"
  },
  {
   "cell_type": "code",
   "execution_count": 68,
   "outputs": [],
   "source": [
    "# 计算每个学校的语数英均分率、所有科目均分率\n",
    "df_q23_2 = df_merge_info_score.groupby('学校代码')['语数英三科均分率(%)'].mean().reset_index(name='语数英三科均分率(%)')\n",
    "df_q23_3 = df_merge_info_score.groupby('学校代码')['十科均分率(%)'].mean().reset_index(name='十科均分率(%)')\n",
    "# 保留两位小数\n",
    "df_q23_2['语数英三科均分率(%)'] = df_q23_2['语数英三科均分率(%)'].apply(lambda x: round(x, 2))\n",
    "df_q23_3['十科均分率(%)'] = df_q23_3['十科均分率(%)'].apply(lambda x: round(x, 2))\n",
    "# print(df_q23_2, df_q23_3)\n",
    "\n",
    "df_q23 = pd.merge(df_q23, df_q23_2, on='学校代码', how='left')\n",
    "df_q23 = pd.merge(df_q23, df_q23_3, on='学校代码', how='left')\n",
    "df_q22.to_csv(\"./tmp/df_q23.csv\", index=False)"
   ],
   "metadata": {
    "collapsed": false,
    "ExecuteTime": {
     "end_time": "2024-05-08T12:52:16.781833400Z",
     "start_time": "2024-05-08T12:52:16.739832500Z"
    }
   },
   "id": "528c334d1231cb73"
  },
  {
   "cell_type": "markdown",
   "source": [
    "每个学校的优秀率、单科及格率"
   ],
   "metadata": {
    "collapsed": false
   },
   "id": "23eab61cd3a28552"
  },
  {
   "cell_type": "code",
   "execution_count": 69,
   "outputs": [],
   "source": [
    "# 计算每个学校的优秀率\n",
    "df_q23_4 = df_merge_info_score.groupby('学校代码')['是否优秀'].mean().reset_index(name='优秀率(%)')\n",
    "df_q23_4['优秀率(%)'] = df_q23_4['优秀率(%)'].apply(lambda x: round(x * 100, 2))\n",
    "# print(df_q23_4)\n",
    "df_q23 = pd.merge(df_q23, df_q23_4, on='学校代码', how='left')\n",
    "df_q23.to_csv(\"./tmp/df_q23.csv\", index=False)\n",
    "\n",
    "# 计算每个学校的及格人次\n",
    "df_q23_5 = df_merge_info_score.groupby('学校代码')['单科及格次数'].sum().reset_index(name='单科及格人次')\n",
    "# print(df_q22_5)\n",
    "df_q23 = pd.merge(df_q23, df_q23_5, on='学校代码', how='left')\n",
    "# 计算每个学校的及格率 (及格人次除以考生数*10，要求以百分比形式，保留两位小数)\n",
    "df_q23['单科及格率(%)'] = df_q23.apply(lambda row: round(row['单科及格人次'] / (row['与考数'] * 10) * 100, 2), axis=1)\n",
    "df_q23.to_csv(\"./tmp/df_q23.csv\", index=False)"
   ],
   "metadata": {
    "collapsed": false,
    "ExecuteTime": {
     "end_time": "2024-05-08T12:52:16.789830800Z",
     "start_time": "2024-05-08T12:52:16.754832800Z"
    }
   },
   "id": "7d9e704e815cf2a8"
  },
  {
   "cell_type": "markdown",
   "source": [
    "每个学校的四率综合比、排名"
   ],
   "metadata": {
    "collapsed": false
   },
   "id": "d2ecc788daa982b9"
  },
  {
   "cell_type": "code",
   "execution_count": 70,
   "outputs": [],
   "source": [
    "# 对df_q23，四率综合比：（语数英三科均分率+十科均分率）* 0.3 + （优秀率 + 单科及格率）* 0.2。（要求以百分比形式，保留两位小数）\n",
    "df_q23['四率综合比(%)'] = df_q23.apply(\n",
    "    lambda row: round(\n",
    "        (row['语数英三科均分率(%)'] + row['十科均分率(%)']) * 0.3 + (row['优秀率(%)'] + row['单科及格率(%)']) * 0.2, 2),\n",
    "    axis=1)\n",
    "# 对df_q23，按综合四率排序\n",
    "df_q23['排名'] = df_q23['四率综合比(%)'].rank(ascending=False).astype(int)\n",
    "df_q23 = df_q23.sort_values(by='四率综合比(%)', ascending=False)\n",
    "df_q23.to_csv(\"./tmp/df_q23.csv\", index=False)"
   ],
   "metadata": {
    "collapsed": false,
    "ExecuteTime": {
     "end_time": "2024-05-08T12:52:16.790834Z",
     "start_time": "2024-05-08T12:52:16.770832500Z"
    }
   },
   "id": "bdc12824972c3fd3"
  },
  {
   "cell_type": "markdown",
   "source": [
    "输出结果"
   ],
   "metadata": {
    "collapsed": false
   },
   "id": "7e39a1746dbd7fd5"
  },
  {
   "cell_type": "code",
   "execution_count": 71,
   "outputs": [
    {
     "data": {
      "text/plain": "       学校代码  考生数  与考数  与考率(%)  语数英三科均分率(%)  十科均分率(%)  优秀率(%)  单科及格率(%)  \\\n8    764387  780  780  100.00        78.37     78.22   52.56     85.38   \n9    566364  285  285  100.00        77.87     77.48   58.95     80.74   \n14   837865   98   98  100.00        75.43     75.67   42.86     81.94   \n24   473436  282  280   99.29        68.26     69.28   34.40     71.32   \n44   645225   47   47  100.00        64.70     66.14    6.38     70.00   \n53   104759   35   35  100.00        62.83     63.60    0.00     66.29   \n62   832819  242  238   98.35        57.24     57.92   23.97     53.87   \n63   321665  308  304   98.70        57.78     58.62   21.10     54.64   \n70   770207  130  124   95.38        56.55     57.05   19.23     57.74   \n76   435224   90   89   98.89        56.41     58.40   16.67     54.83   \n79   618490   53   52   98.11        55.01     57.78   16.98     56.15   \n83    31120  111  111  100.00        57.93     57.92   12.61     51.89   \n85   505432  179  170   94.97        54.33     55.54   17.32     54.94   \n86   907012  397  394   99.24        55.74     56.17   17.38     49.87   \n88   474068  239  236   98.74        55.52     56.32   15.90     51.06   \n89   994377   61   61  100.00        53.70     55.16   21.31     48.52   \n91   144604  168  167   99.40        53.44     54.17   22.62     48.62   \n94   867973   53   52   98.11        55.06     56.67   11.32     51.35   \n97   332754  172  172  100.00        54.71     55.65   12.79     50.35   \n98   106316   81   81  100.00        51.97     54.35   17.28     51.85   \n99   988224  160  160  100.00        54.11     54.17   19.38     46.38   \n101  927545  309  308   99.68        53.69     54.33   18.12     46.62   \n103   55870  157  152   96.82        54.37     54.70   12.74     48.42   \n108  159073   54   53   98.15        53.12     54.57    7.41     50.00   \n109  906674  307  305   99.35        50.98     52.69   15.31     48.07   \n112  985078  108  106   98.15        51.75     53.68    7.41     52.17   \n113  184830  393  378   96.18        50.56     51.93   14.50     49.42   \n115  969677  159  157   98.74        51.83     52.28   16.35     43.69   \n117  501241   27   27  100.00        48.70     53.92   14.81     47.41   \n118  366078   61   61  100.00        51.29     52.80   14.75     44.26   \n120  419817  223  220   98.65        51.44     52.25   15.70     42.86   \n128  877884  184  183   99.46        49.80     51.38   16.30     43.06   \n130  802448   84   83   98.81        50.44     51.71   13.10     44.34   \n135  114145  186  175   94.09        48.68     48.82   18.28     43.43   \n142  618364   97   95   97.94        48.80     50.68    9.28     45.68   \n147  593115  107  107  100.00        47.96     49.99   15.89     40.00   \n149  366682  133  127   95.49        46.26     48.52   14.29     45.59   \n152  636858  215  204   94.88        47.20     49.36   11.63     44.26   \n156  333967  100   97   97.00        48.02     49.20    9.00     43.81   \n161  289560   12   12  100.00        48.72     52.13    0.00     44.17   \n164    4438   64   64  100.00        47.64     49.03   10.94     38.28   \n167  631141  307  299   97.39        45.60     47.65   10.10     41.51   \n171  187522   87   87  100.00        47.56     48.66    9.20     36.21   \n211  271259   68   65   95.59        36.17     38.30    1.47     29.69   \n\n     四率综合比(%)   排名  县区代码  \n8       74.56    9  9076  \n9       74.54   10  9076  \n14      70.29   15  9076  \n24      62.41   25  9076  \n44      54.53   45  9076  \n53      51.19   54  9076  \n62      50.12   63  9076  \n63      50.07   64  9076  \n70      49.47   71  9076  \n76      48.74   77  9076  \n79      48.46   80  9076  \n83      47.65   84  9076  \n85      47.41   86  9076  \n86      47.02   87  9076  \n88      46.94   89  9076  \n89      46.62   90  9076  \n91      46.53   92  9076  \n94      46.05   95  9076  \n97      45.74   98  9076  \n98      45.72   99  9076  \n99      45.64  100  9076  \n101     45.35  102  9076  \n103     44.95  104  9076  \n108     43.79  109  9076  \n109     43.78  110  9076  \n112     43.54  113  9076  \n113     43.53  114  9076  \n115     43.24  116  9076  \n117     43.23  118  9076  \n118     43.03  119  9076  \n120     42.82  121  9076  \n128     42.23  129  9076  \n130     42.13  131  9076  \n135     41.59  136  9076  \n142     40.84  143  9076  \n147     40.56  148  9076  \n149     40.41  150  9076  \n152     40.15  153  9076  \n156     39.73  157  9076  \n161     39.09  162  9076  \n164     38.84  165  9076  \n167     38.30  168  9076  \n171     37.95  172  9076  \n211     28.57  212  9076  ",
      "text/html": "<div>\n<style scoped>\n    .dataframe tbody tr th:only-of-type {\n        vertical-align: middle;\n    }\n\n    .dataframe tbody tr th {\n        vertical-align: top;\n    }\n\n    .dataframe thead th {\n        text-align: right;\n    }\n</style>\n<table border=\"1\" class=\"dataframe\">\n  <thead>\n    <tr style=\"text-align: right;\">\n      <th></th>\n      <th>学校代码</th>\n      <th>考生数</th>\n      <th>与考数</th>\n      <th>与考率(%)</th>\n      <th>语数英三科均分率(%)</th>\n      <th>十科均分率(%)</th>\n      <th>优秀率(%)</th>\n      <th>单科及格率(%)</th>\n      <th>四率综合比(%)</th>\n      <th>排名</th>\n      <th>县区代码</th>\n    </tr>\n  </thead>\n  <tbody>\n    <tr>\n      <th>8</th>\n      <td>764387</td>\n      <td>780</td>\n      <td>780</td>\n      <td>100.00</td>\n      <td>78.37</td>\n      <td>78.22</td>\n      <td>52.56</td>\n      <td>85.38</td>\n      <td>74.56</td>\n      <td>9</td>\n      <td>9076</td>\n    </tr>\n    <tr>\n      <th>9</th>\n      <td>566364</td>\n      <td>285</td>\n      <td>285</td>\n      <td>100.00</td>\n      <td>77.87</td>\n      <td>77.48</td>\n      <td>58.95</td>\n      <td>80.74</td>\n      <td>74.54</td>\n      <td>10</td>\n      <td>9076</td>\n    </tr>\n    <tr>\n      <th>14</th>\n      <td>837865</td>\n      <td>98</td>\n      <td>98</td>\n      <td>100.00</td>\n      <td>75.43</td>\n      <td>75.67</td>\n      <td>42.86</td>\n      <td>81.94</td>\n      <td>70.29</td>\n      <td>15</td>\n      <td>9076</td>\n    </tr>\n    <tr>\n      <th>24</th>\n      <td>473436</td>\n      <td>282</td>\n      <td>280</td>\n      <td>99.29</td>\n      <td>68.26</td>\n      <td>69.28</td>\n      <td>34.40</td>\n      <td>71.32</td>\n      <td>62.41</td>\n      <td>25</td>\n      <td>9076</td>\n    </tr>\n    <tr>\n      <th>44</th>\n      <td>645225</td>\n      <td>47</td>\n      <td>47</td>\n      <td>100.00</td>\n      <td>64.70</td>\n      <td>66.14</td>\n      <td>6.38</td>\n      <td>70.00</td>\n      <td>54.53</td>\n      <td>45</td>\n      <td>9076</td>\n    </tr>\n    <tr>\n      <th>53</th>\n      <td>104759</td>\n      <td>35</td>\n      <td>35</td>\n      <td>100.00</td>\n      <td>62.83</td>\n      <td>63.60</td>\n      <td>0.00</td>\n      <td>66.29</td>\n      <td>51.19</td>\n      <td>54</td>\n      <td>9076</td>\n    </tr>\n    <tr>\n      <th>62</th>\n      <td>832819</td>\n      <td>242</td>\n      <td>238</td>\n      <td>98.35</td>\n      <td>57.24</td>\n      <td>57.92</td>\n      <td>23.97</td>\n      <td>53.87</td>\n      <td>50.12</td>\n      <td>63</td>\n      <td>9076</td>\n    </tr>\n    <tr>\n      <th>63</th>\n      <td>321665</td>\n      <td>308</td>\n      <td>304</td>\n      <td>98.70</td>\n      <td>57.78</td>\n      <td>58.62</td>\n      <td>21.10</td>\n      <td>54.64</td>\n      <td>50.07</td>\n      <td>64</td>\n      <td>9076</td>\n    </tr>\n    <tr>\n      <th>70</th>\n      <td>770207</td>\n      <td>130</td>\n      <td>124</td>\n      <td>95.38</td>\n      <td>56.55</td>\n      <td>57.05</td>\n      <td>19.23</td>\n      <td>57.74</td>\n      <td>49.47</td>\n      <td>71</td>\n      <td>9076</td>\n    </tr>\n    <tr>\n      <th>76</th>\n      <td>435224</td>\n      <td>90</td>\n      <td>89</td>\n      <td>98.89</td>\n      <td>56.41</td>\n      <td>58.40</td>\n      <td>16.67</td>\n      <td>54.83</td>\n      <td>48.74</td>\n      <td>77</td>\n      <td>9076</td>\n    </tr>\n    <tr>\n      <th>79</th>\n      <td>618490</td>\n      <td>53</td>\n      <td>52</td>\n      <td>98.11</td>\n      <td>55.01</td>\n      <td>57.78</td>\n      <td>16.98</td>\n      <td>56.15</td>\n      <td>48.46</td>\n      <td>80</td>\n      <td>9076</td>\n    </tr>\n    <tr>\n      <th>83</th>\n      <td>31120</td>\n      <td>111</td>\n      <td>111</td>\n      <td>100.00</td>\n      <td>57.93</td>\n      <td>57.92</td>\n      <td>12.61</td>\n      <td>51.89</td>\n      <td>47.65</td>\n      <td>84</td>\n      <td>9076</td>\n    </tr>\n    <tr>\n      <th>85</th>\n      <td>505432</td>\n      <td>179</td>\n      <td>170</td>\n      <td>94.97</td>\n      <td>54.33</td>\n      <td>55.54</td>\n      <td>17.32</td>\n      <td>54.94</td>\n      <td>47.41</td>\n      <td>86</td>\n      <td>9076</td>\n    </tr>\n    <tr>\n      <th>86</th>\n      <td>907012</td>\n      <td>397</td>\n      <td>394</td>\n      <td>99.24</td>\n      <td>55.74</td>\n      <td>56.17</td>\n      <td>17.38</td>\n      <td>49.87</td>\n      <td>47.02</td>\n      <td>87</td>\n      <td>9076</td>\n    </tr>\n    <tr>\n      <th>88</th>\n      <td>474068</td>\n      <td>239</td>\n      <td>236</td>\n      <td>98.74</td>\n      <td>55.52</td>\n      <td>56.32</td>\n      <td>15.90</td>\n      <td>51.06</td>\n      <td>46.94</td>\n      <td>89</td>\n      <td>9076</td>\n    </tr>\n    <tr>\n      <th>89</th>\n      <td>994377</td>\n      <td>61</td>\n      <td>61</td>\n      <td>100.00</td>\n      <td>53.70</td>\n      <td>55.16</td>\n      <td>21.31</td>\n      <td>48.52</td>\n      <td>46.62</td>\n      <td>90</td>\n      <td>9076</td>\n    </tr>\n    <tr>\n      <th>91</th>\n      <td>144604</td>\n      <td>168</td>\n      <td>167</td>\n      <td>99.40</td>\n      <td>53.44</td>\n      <td>54.17</td>\n      <td>22.62</td>\n      <td>48.62</td>\n      <td>46.53</td>\n      <td>92</td>\n      <td>9076</td>\n    </tr>\n    <tr>\n      <th>94</th>\n      <td>867973</td>\n      <td>53</td>\n      <td>52</td>\n      <td>98.11</td>\n      <td>55.06</td>\n      <td>56.67</td>\n      <td>11.32</td>\n      <td>51.35</td>\n      <td>46.05</td>\n      <td>95</td>\n      <td>9076</td>\n    </tr>\n    <tr>\n      <th>97</th>\n      <td>332754</td>\n      <td>172</td>\n      <td>172</td>\n      <td>100.00</td>\n      <td>54.71</td>\n      <td>55.65</td>\n      <td>12.79</td>\n      <td>50.35</td>\n      <td>45.74</td>\n      <td>98</td>\n      <td>9076</td>\n    </tr>\n    <tr>\n      <th>98</th>\n      <td>106316</td>\n      <td>81</td>\n      <td>81</td>\n      <td>100.00</td>\n      <td>51.97</td>\n      <td>54.35</td>\n      <td>17.28</td>\n      <td>51.85</td>\n      <td>45.72</td>\n      <td>99</td>\n      <td>9076</td>\n    </tr>\n    <tr>\n      <th>99</th>\n      <td>988224</td>\n      <td>160</td>\n      <td>160</td>\n      <td>100.00</td>\n      <td>54.11</td>\n      <td>54.17</td>\n      <td>19.38</td>\n      <td>46.38</td>\n      <td>45.64</td>\n      <td>100</td>\n      <td>9076</td>\n    </tr>\n    <tr>\n      <th>101</th>\n      <td>927545</td>\n      <td>309</td>\n      <td>308</td>\n      <td>99.68</td>\n      <td>53.69</td>\n      <td>54.33</td>\n      <td>18.12</td>\n      <td>46.62</td>\n      <td>45.35</td>\n      <td>102</td>\n      <td>9076</td>\n    </tr>\n    <tr>\n      <th>103</th>\n      <td>55870</td>\n      <td>157</td>\n      <td>152</td>\n      <td>96.82</td>\n      <td>54.37</td>\n      <td>54.70</td>\n      <td>12.74</td>\n      <td>48.42</td>\n      <td>44.95</td>\n      <td>104</td>\n      <td>9076</td>\n    </tr>\n    <tr>\n      <th>108</th>\n      <td>159073</td>\n      <td>54</td>\n      <td>53</td>\n      <td>98.15</td>\n      <td>53.12</td>\n      <td>54.57</td>\n      <td>7.41</td>\n      <td>50.00</td>\n      <td>43.79</td>\n      <td>109</td>\n      <td>9076</td>\n    </tr>\n    <tr>\n      <th>109</th>\n      <td>906674</td>\n      <td>307</td>\n      <td>305</td>\n      <td>99.35</td>\n      <td>50.98</td>\n      <td>52.69</td>\n      <td>15.31</td>\n      <td>48.07</td>\n      <td>43.78</td>\n      <td>110</td>\n      <td>9076</td>\n    </tr>\n    <tr>\n      <th>112</th>\n      <td>985078</td>\n      <td>108</td>\n      <td>106</td>\n      <td>98.15</td>\n      <td>51.75</td>\n      <td>53.68</td>\n      <td>7.41</td>\n      <td>52.17</td>\n      <td>43.54</td>\n      <td>113</td>\n      <td>9076</td>\n    </tr>\n    <tr>\n      <th>113</th>\n      <td>184830</td>\n      <td>393</td>\n      <td>378</td>\n      <td>96.18</td>\n      <td>50.56</td>\n      <td>51.93</td>\n      <td>14.50</td>\n      <td>49.42</td>\n      <td>43.53</td>\n      <td>114</td>\n      <td>9076</td>\n    </tr>\n    <tr>\n      <th>115</th>\n      <td>969677</td>\n      <td>159</td>\n      <td>157</td>\n      <td>98.74</td>\n      <td>51.83</td>\n      <td>52.28</td>\n      <td>16.35</td>\n      <td>43.69</td>\n      <td>43.24</td>\n      <td>116</td>\n      <td>9076</td>\n    </tr>\n    <tr>\n      <th>117</th>\n      <td>501241</td>\n      <td>27</td>\n      <td>27</td>\n      <td>100.00</td>\n      <td>48.70</td>\n      <td>53.92</td>\n      <td>14.81</td>\n      <td>47.41</td>\n      <td>43.23</td>\n      <td>118</td>\n      <td>9076</td>\n    </tr>\n    <tr>\n      <th>118</th>\n      <td>366078</td>\n      <td>61</td>\n      <td>61</td>\n      <td>100.00</td>\n      <td>51.29</td>\n      <td>52.80</td>\n      <td>14.75</td>\n      <td>44.26</td>\n      <td>43.03</td>\n      <td>119</td>\n      <td>9076</td>\n    </tr>\n    <tr>\n      <th>120</th>\n      <td>419817</td>\n      <td>223</td>\n      <td>220</td>\n      <td>98.65</td>\n      <td>51.44</td>\n      <td>52.25</td>\n      <td>15.70</td>\n      <td>42.86</td>\n      <td>42.82</td>\n      <td>121</td>\n      <td>9076</td>\n    </tr>\n    <tr>\n      <th>128</th>\n      <td>877884</td>\n      <td>184</td>\n      <td>183</td>\n      <td>99.46</td>\n      <td>49.80</td>\n      <td>51.38</td>\n      <td>16.30</td>\n      <td>43.06</td>\n      <td>42.23</td>\n      <td>129</td>\n      <td>9076</td>\n    </tr>\n    <tr>\n      <th>130</th>\n      <td>802448</td>\n      <td>84</td>\n      <td>83</td>\n      <td>98.81</td>\n      <td>50.44</td>\n      <td>51.71</td>\n      <td>13.10</td>\n      <td>44.34</td>\n      <td>42.13</td>\n      <td>131</td>\n      <td>9076</td>\n    </tr>\n    <tr>\n      <th>135</th>\n      <td>114145</td>\n      <td>186</td>\n      <td>175</td>\n      <td>94.09</td>\n      <td>48.68</td>\n      <td>48.82</td>\n      <td>18.28</td>\n      <td>43.43</td>\n      <td>41.59</td>\n      <td>136</td>\n      <td>9076</td>\n    </tr>\n    <tr>\n      <th>142</th>\n      <td>618364</td>\n      <td>97</td>\n      <td>95</td>\n      <td>97.94</td>\n      <td>48.80</td>\n      <td>50.68</td>\n      <td>9.28</td>\n      <td>45.68</td>\n      <td>40.84</td>\n      <td>143</td>\n      <td>9076</td>\n    </tr>\n    <tr>\n      <th>147</th>\n      <td>593115</td>\n      <td>107</td>\n      <td>107</td>\n      <td>100.00</td>\n      <td>47.96</td>\n      <td>49.99</td>\n      <td>15.89</td>\n      <td>40.00</td>\n      <td>40.56</td>\n      <td>148</td>\n      <td>9076</td>\n    </tr>\n    <tr>\n      <th>149</th>\n      <td>366682</td>\n      <td>133</td>\n      <td>127</td>\n      <td>95.49</td>\n      <td>46.26</td>\n      <td>48.52</td>\n      <td>14.29</td>\n      <td>45.59</td>\n      <td>40.41</td>\n      <td>150</td>\n      <td>9076</td>\n    </tr>\n    <tr>\n      <th>152</th>\n      <td>636858</td>\n      <td>215</td>\n      <td>204</td>\n      <td>94.88</td>\n      <td>47.20</td>\n      <td>49.36</td>\n      <td>11.63</td>\n      <td>44.26</td>\n      <td>40.15</td>\n      <td>153</td>\n      <td>9076</td>\n    </tr>\n    <tr>\n      <th>156</th>\n      <td>333967</td>\n      <td>100</td>\n      <td>97</td>\n      <td>97.00</td>\n      <td>48.02</td>\n      <td>49.20</td>\n      <td>9.00</td>\n      <td>43.81</td>\n      <td>39.73</td>\n      <td>157</td>\n      <td>9076</td>\n    </tr>\n    <tr>\n      <th>161</th>\n      <td>289560</td>\n      <td>12</td>\n      <td>12</td>\n      <td>100.00</td>\n      <td>48.72</td>\n      <td>52.13</td>\n      <td>0.00</td>\n      <td>44.17</td>\n      <td>39.09</td>\n      <td>162</td>\n      <td>9076</td>\n    </tr>\n    <tr>\n      <th>164</th>\n      <td>4438</td>\n      <td>64</td>\n      <td>64</td>\n      <td>100.00</td>\n      <td>47.64</td>\n      <td>49.03</td>\n      <td>10.94</td>\n      <td>38.28</td>\n      <td>38.84</td>\n      <td>165</td>\n      <td>9076</td>\n    </tr>\n    <tr>\n      <th>167</th>\n      <td>631141</td>\n      <td>307</td>\n      <td>299</td>\n      <td>97.39</td>\n      <td>45.60</td>\n      <td>47.65</td>\n      <td>10.10</td>\n      <td>41.51</td>\n      <td>38.30</td>\n      <td>168</td>\n      <td>9076</td>\n    </tr>\n    <tr>\n      <th>171</th>\n      <td>187522</td>\n      <td>87</td>\n      <td>87</td>\n      <td>100.00</td>\n      <td>47.56</td>\n      <td>48.66</td>\n      <td>9.20</td>\n      <td>36.21</td>\n      <td>37.95</td>\n      <td>172</td>\n      <td>9076</td>\n    </tr>\n    <tr>\n      <th>211</th>\n      <td>271259</td>\n      <td>68</td>\n      <td>65</td>\n      <td>95.59</td>\n      <td>36.17</td>\n      <td>38.30</td>\n      <td>1.47</td>\n      <td>29.69</td>\n      <td>28.57</td>\n      <td>212</td>\n      <td>9076</td>\n    </tr>\n  </tbody>\n</table>\n</div>"
     },
     "execution_count": 71,
     "metadata": {},
     "output_type": "execute_result"
    }
   ],
   "source": [
    "# 创建县区代码和学校代码的映射关系\n",
    "df_q23_6 = df_info[[\"县区代码\", \"学校代码\"]]\n",
    "map_for_area = {}\n",
    "for index, row in df_q23_6.iterrows():\n",
    "    map_for_area[row[\"学校代码\"]] = row[\"县区代码\"]\n",
    "# 县区代码的枚举值\n",
    "area_enum = df_q23_6[\"县区代码\"].unique()\n",
    "# print(area_enum)  # [9076  160  173 4678 7764 9952 9852 5670  864 8717 1995 1614 7451 3281 992]\n",
    "\n",
    "# 将map_for_area转为df\n",
    "df_map_for_area = pd.DataFrame(map_for_area.items(), columns=[\"学校代码\", \"县区代码\"])\n",
    "# print(df_map_for_area)\n",
    "\n",
    "# 整理列\n",
    "df_q23 = df_q23.drop(columns=['缺考人数', '单科及格人次'])\n",
    "# df_q23左连接df_info，得到每个学校的县区代码\n",
    "df_q23 = pd.merge(df_q23, df_map_for_area, on='学校代码', how='left')\n",
    "df_q23.to_csv(\"./tmp/df_q23.csv\", index=False)\n",
    "\n",
    "# df_23按照县区代码字段进行分组，分别存储到许多个df中\n",
    "df_q23_result = {}\n",
    "for area in area_enum:\n",
    "    df_q23_result[area] = df_q23[df_q23[\"县区代码\"] == area]\n",
    "# 将最后一系列df_result分别保存到多个csv中\n",
    "for area in area_enum:\n",
    "    df_q23_result[area].to_csv(\"./tmp/df_q23_result_\" + str(area) + \".csv\", index=False)\n",
    "\n",
    "df_q23_result[area_enum[0]]"
   ],
   "metadata": {
    "collapsed": false,
    "ExecuteTime": {
     "end_time": "2024-05-08T12:52:17.500536200Z",
     "start_time": "2024-05-08T12:52:16.788830800Z"
    }
   },
   "id": "ac99ea6c3220facb"
  },
  {
   "cell_type": "markdown",
   "source": [
    "保存在excel"
   ],
   "metadata": {
    "collapsed": false
   },
   "id": "644aabd8f9aeb399"
  },
  {
   "cell_type": "code",
   "execution_count": 72,
   "outputs": [],
   "source": [
    "df_q22.to_excel('zlfx.xlsx', sheet_name='县区', index=False)\n",
    "with pd.ExcelWriter('zlfx.xlsx', mode='a', if_sheet_exists='overlay') as writer:\n",
    "    for area, df in df_q23_result.items():\n",
    "        df.to_excel(writer, sheet_name=str(area), index=False)"
   ],
   "metadata": {
    "collapsed": false,
    "ExecuteTime": {
     "end_time": "2024-05-08T12:52:17.621543Z",
     "start_time": "2024-05-08T12:52:17.501537400Z"
    }
   },
   "id": "869ac5fee17070f6"
  }
 ],
 "metadata": {
  "kernelspec": {
   "name": "da",
   "language": "python",
   "display_name": "da"
  },
  "language_info": {
   "codemirror_mode": {
    "name": "ipython",
    "version": 2
   },
   "file_extension": ".py",
   "mimetype": "text/x-python",
   "name": "python",
   "nbconvert_exporter": "python",
   "pygments_lexer": "ipython2",
   "version": "2.7.6"
  }
 },
 "nbformat": 4,
 "nbformat_minor": 5
}
